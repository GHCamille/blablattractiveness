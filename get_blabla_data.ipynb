{
 "cells": [
  {
   "cell_type": "markdown",
   "metadata": {},
   "source": [
    "# Blablattractivity - Local and tests -"
   ]
  },
  {
   "cell_type": "markdown",
   "metadata": {},
   "source": [
    "## Data collection"
   ]
  },
  {
   "cell_type": "markdown",
   "metadata": {},
   "source": [
    "We start with basic imports to use blablacar web api."
   ]
  },
  {
   "cell_type": "code",
   "execution_count": 1,
   "metadata": {},
   "outputs": [],
   "source": [
    "#%pip install pandas"
   ]
  },
  {
   "cell_type": "code",
   "execution_count": 2,
   "metadata": {},
   "outputs": [],
   "source": [
    "#%pip install fsspec"
   ]
  },
  {
   "cell_type": "code",
   "execution_count": 3,
   "metadata": {},
   "outputs": [],
   "source": [
    "#%pip install google-cloud-storage"
   ]
  },
  {
   "cell_type": "code",
   "execution_count": 4,
   "metadata": {},
   "outputs": [],
   "source": [
    "#%pip install matplotlib"
   ]
  },
  {
   "cell_type": "code",
   "execution_count": 5,
   "metadata": {},
   "outputs": [],
   "source": [
    "#%pip install seaborn"
   ]
  },
  {
   "cell_type": "code",
   "execution_count": 1,
   "metadata": {},
   "outputs": [],
   "source": [
    "import json\n",
    "import requests\n",
    "import numpy as np\n",
    "import pandas as pd\n",
    "import matplotlib.pyplot as plt\n",
    "from matplotlib.ticker import AutoMinorLocator\n",
    "import matplotlib.dates as mdates\n",
    "import seaborn as sns\n",
    "from google.cloud import storage\n",
    "import datetime \n",
    "from math import ceil, floor"
   ]
  },
  {
   "cell_type": "code",
   "execution_count": 2,
   "metadata": {},
   "outputs": [
    {
     "data": {
      "text/html": [
       "<div>\n",
       "<style scoped>\n",
       "    .dataframe tbody tr th:only-of-type {\n",
       "        vertical-align: middle;\n",
       "    }\n",
       "\n",
       "    .dataframe tbody tr th {\n",
       "        vertical-align: top;\n",
       "    }\n",
       "\n",
       "    .dataframe thead th {\n",
       "        text-align: right;\n",
       "    }\n",
       "</style>\n",
       "<table border=\"1\" class=\"dataframe\">\n",
       "  <thead>\n",
       "    <tr style=\"text-align: right;\">\n",
       "      <th></th>\n",
       "      <th>Origin</th>\n",
       "      <th>Destination</th>\n",
       "      <th>From_coordinate</th>\n",
       "      <th>To_coordinate</th>\n",
       "    </tr>\n",
       "  </thead>\n",
       "  <tbody>\n",
       "    <tr>\n",
       "      <th>0</th>\n",
       "      <td>Paris</td>\n",
       "      <td>Marseille</td>\n",
       "      <td>48.856614%7C2.352221</td>\n",
       "      <td>43.296482%2C5.36978</td>\n",
       "    </tr>\n",
       "  </tbody>\n",
       "</table>\n",
       "</div>"
      ],
      "text/plain": [
       "  Origin Destination       From_coordinate        To_coordinate\n",
       "0  Paris   Marseille  48.856614%7C2.352221  43.296482%2C5.36978"
      ]
     },
     "execution_count": 2,
     "metadata": {},
     "output_type": "execute_result"
    }
   ],
   "source": [
    "origin_destination_df = pd.read_csv(\"./origin_destination.csv\", sep=\";\")\n",
    "# Our testing sample\n",
    "origin_destination_df = origin_destination_df.head(23).copy(deep=True)\n",
    "origin_destination_df = origin_destination_df.tail(1).copy(deep=True).reset_index(drop=True)\n",
    "origin_destination_df"
   ]
  },
  {
   "cell_type": "markdown",
   "metadata": {},
   "source": [
    "Convert the dataframe to a dictionnary :"
   ]
  },
  {
   "cell_type": "code",
   "execution_count": 3,
   "metadata": {},
   "outputs": [
    {
     "data": {
      "text/plain": [
       "{0: {'Origin': 'Paris',\n",
       "  'Destination': 'Marseille',\n",
       "  'From_coordinate': '48.856614%7C2.352221',\n",
       "  'To_coordinate': '43.296482%2C5.36978'}}"
      ]
     },
     "execution_count": 3,
     "metadata": {},
     "output_type": "execute_result"
    }
   ],
   "source": [
    "route_dict = origin_destination_df.to_dict('index') \n",
    "route_dict"
   ]
  },
  {
   "cell_type": "markdown",
   "metadata": {},
   "source": [
    "Dès qu'on reçoit l'API on part là-dessus : https://dev.blablacar.com/hc/en-us/articles/360012064820--Search-V3-API-Documentation"
   ]
  },
  {
   "cell_type": "code",
   "execution_count": 4,
   "metadata": {},
   "outputs": [],
   "source": [
    "api_token = open(\"./api.txt\",\"r\").read()\n",
    "api_url = \"https://public-api.blablacar.com\""
   ]
  },
  {
   "cell_type": "markdown",
   "metadata": {},
   "source": [
    "We have the basic parameters of our API call :"
   ]
  },
  {
   "cell_type": "code",
   "execution_count": 5,
   "metadata": {},
   "outputs": [],
   "source": [
    "from_country = \"FR\" # string : ISO_3166_1\n",
    "to_country = \"FR\" # string : ISO_3166_1\n",
    "locale = \"fr-FR\" # string : locale in which the result will be displayed https://dev.blablacar.com/hc/en-us/articles/360008930020\n",
    "currency = \"EUR\" # string : ISO_4217 currency\n",
    "number_of_trips_we_want_returned = \"100\" # int : from 1 to 100, default is 10 \n",
    "requested_seats = \"1\" # int : minimum number of seats requested, default value is 1\n",
    "radius_in_meters = \"6000\" # int : radius of the circle around the coordinates in which trips will be searched from (in meters) - the default is 5000, so I chose 6000 because I noticed that 5000 is okay for cities but I want a margin of error for people meeting a bit away from cities"
   ]
  },
  {
   "cell_type": "markdown",
   "metadata": {},
   "source": [
    "Then the date of the trip will be different everytime we run the code (it has to be next friday everytime), so we compute it here :"
   ]
  },
  {
   "cell_type": "code",
   "execution_count": 6,
   "metadata": {},
   "outputs": [],
   "source": [
    "today = datetime.date.today()\n",
    "friday = today + datetime.timedelta( (4-today.weekday()) % 7 )\n",
    "next_friday_datetime = str(friday)+\"T00:00:00\"\n",
    "start_date_local = next_friday_datetime"
   ]
  },
  {
   "cell_type": "markdown",
   "metadata": {},
   "source": [
    "Create the dictionnary that is going to hold our information :"
   ]
  },
  {
   "cell_type": "code",
   "execution_count": 17,
   "metadata": {},
   "outputs": [],
   "source": [
    "new_dict = {'trip_id':[],'price_of_the_trip':[],'date':[],'origin':[],'destination':[],'count_trips_on_this_route':[]}"
   ]
  },
  {
   "cell_type": "markdown",
   "metadata": {},
   "source": [
    "Collect data : "
   ]
  },
  {
   "cell_type": "code",
   "execution_count": 18,
   "metadata": {},
   "outputs": [],
   "source": [
    "for index in route_dict:\n",
    "    current_origin = route_dict[index]['Origin']\n",
    "    current_destination = route_dict[index]['Destination']\n",
    "    from_coordinate = route_dict[index]['From_coordinate'] # string : latitude, longitude - current_origin\n",
    "    to_coordinate = route_dict[index]['To_coordinate'] # string : latitude, longitude - current_destination\n",
    "    \n",
    "    blabla_query = api_url+\"/api/v3/trips?key=\"+api_token+\"&from_coordinate=\"+from_coordinate+\"&from_country=\"+from_country+\"&to_coordinate=\"+to_coordinate+\"&to_country=\"+to_country+\"&locale=\"+locale+\"&currency=\"+currency+\"&count=\"+number_of_trips_we_want_returned+\"&start_date_local=\"+start_date_local+\"&radius_in_meters=\"+radius_in_meters+\"&sort=price:asc\"\n",
    "    response = requests.get(blabla_query)\n",
    "    \n",
    "    # print(response.status_code) # SHOULD BE 200\n",
    "    \n",
    "    json_trips = response.json() # it's a dictionnary\n",
    "    number_of_trips = json_trips[\"search_info\"][\"count\"]\n",
    "    for dict_trip in json_trips[\"trips\"]:\n",
    "        trip_id =  dict_trip[\"link\"].split(\"id=\")[1].split(\"-\")[0]\n",
    "        price_of_the_trip = dict_trip[\"price\"][\"amount\"]\n",
    "        new_dict['trip_id'].append(trip_id)\n",
    "        new_dict['price_of_the_trip'].append(price_of_the_trip)\n",
    "        new_dict['date'].append(start_date_local[:10])\n",
    "        new_dict['origin'].append(current_origin)\n",
    "        new_dict['destination'].append(current_destination)\n",
    "        new_dict['count_trips_on_this_route'].append(number_of_trips)"
   ]
  },
  {
   "cell_type": "code",
   "execution_count": 19,
   "metadata": {},
   "outputs": [
    {
     "data": {
      "text/plain": [
       "{'trip_id': ['2033843926', '2029583051'],\n",
       " 'price_of_the_trip': ['52.50', '57.50'],\n",
       " 'date': ['2020-08-28', '2020-08-28'],\n",
       " 'origin': ['Paris', 'Paris'],\n",
       " 'destination': ['Marseille', 'Marseille'],\n",
       " 'count_trips_on_this_route': [2, 2]}"
      ]
     },
     "execution_count": 19,
     "metadata": {},
     "output_type": "execute_result"
    }
   ],
   "source": [
    "new_dict"
   ]
  },
  {
   "cell_type": "markdown",
   "metadata": {},
   "source": [
    "Feed it to the dataframe :"
   ]
  },
  {
   "cell_type": "code",
   "execution_count": 14,
   "metadata": {},
   "outputs": [],
   "source": [
    "new_df = pd.DataFrame.from_dict(new_dict)\n",
    "new_df.price_of_the_trip = new_df.price_of_the_trip.astype('float')    "
   ]
  },
  {
   "cell_type": "markdown",
   "metadata": {},
   "source": [
    "Save the df in folder here :"
   ]
  },
  {
   "cell_type": "code",
   "execution_count": 15,
   "metadata": {},
   "outputs": [],
   "source": [
    "old_df = pd.read_csv(\"./blablacar_rennes_brest.csv\",index_col = \"Unnamed: 0\") \n",
    "old_df.head()\n",
    "df_trips = old_df.append(new_df, ignore_index=True, sort=False)\n",
    "df_trips.head()\n",
    "df_trips.to_csv(\"./blablacar_rennes_brest.csv\")"
   ]
  }
 ],
 "metadata": {
  "kernelspec": {
   "display_name": "Python 3",
   "language": "python",
   "name": "python3"
  },
  "language_info": {
   "codemirror_mode": {
    "name": "ipython",
    "version": 3
   },
   "file_extension": ".py",
   "mimetype": "text/x-python",
   "name": "python",
   "nbconvert_exporter": "python",
   "pygments_lexer": "ipython3",
   "version": "3.8.5"
  }
 },
 "nbformat": 4,
 "nbformat_minor": 4
}
