{
 "cells": [
  {
   "cell_type": "markdown",
   "metadata": {},
   "source": [
    "# Blablattractivity - Local and tests -"
   ]
  },
  {
   "cell_type": "markdown",
   "metadata": {},
   "source": [
    "We start with basic imports to use blablacar web api."
   ]
  },
  {
   "cell_type": "code",
   "execution_count": 1,
   "metadata": {},
   "outputs": [],
   "source": [
    "#%pip install pandas"
   ]
  },
  {
   "cell_type": "code",
   "execution_count": 2,
   "metadata": {},
   "outputs": [],
   "source": [
    "#%pip install fsspec"
   ]
  },
  {
   "cell_type": "code",
   "execution_count": 3,
   "metadata": {},
   "outputs": [],
   "source": [
    "#%pip install google-cloud-storage"
   ]
  },
  {
   "cell_type": "code",
   "execution_count": 4,
   "metadata": {},
   "outputs": [],
   "source": [
    "import json\n",
    "import requests\n",
    "import pandas as pd\n",
    "from google.cloud import storage\n",
    "import datetime"
   ]
  },
  {
   "cell_type": "markdown",
   "metadata": {},
   "source": [
    "Dès qu'on reçoit l'API on part là-dessus : https://dev.blablacar.com/hc/en-us/articles/360012064820--Search-V3-API-Documentation"
   ]
  },
  {
   "cell_type": "code",
   "execution_count": 5,
   "metadata": {},
   "outputs": [],
   "source": [
    "api_token = open(\"./api.txt\",\"r\").read()\n",
    "api_url = \"https://public-api.blablacar.com\""
   ]
  },
  {
   "cell_type": "markdown",
   "metadata": {},
   "source": [
    "We have the basic parameters of our API call :"
   ]
  },
  {
   "cell_type": "code",
   "execution_count": 6,
   "metadata": {},
   "outputs": [],
   "source": [
    "from_coordinate = \"48.117266%2C-1.677793\" # string : latitude, longitude - RENNES\n",
    "to_coordinate = \"48.390394%2C-4.486076\" # string : latitude, longitude - BREST\n",
    "from_country = \"FR\" # string : ISO_3166_1\n",
    "to_country = \"FR\" # string : ISO_3166_1\n",
    "locale = \"fr-FR\" # string : locale in which the result will be displayed https://dev.blablacar.com/hc/en-us/articles/360008930020\n",
    "currency = \"EUR\" # string : ISO_4217 currency\n",
    "number_of_trips_we_want_returned = \"100\" # int : from 1 to 100, default is 10 \n",
    "requested_seats = \"1\" # int : minimum number of seats requested, default value is 1\n",
    "radius_in_meters = \"6000\" # int : radius of the circle around the coordinates in which trips will be searched from (in meters)"
   ]
  },
  {
   "cell_type": "markdown",
   "metadata": {},
   "source": [
    "Then the date of the trip will be different everytime we run the code (it has to be next friday everytime), so we compute it here :"
   ]
  },
  {
   "cell_type": "code",
   "execution_count": 7,
   "metadata": {},
   "outputs": [],
   "source": [
    "today = datetime.date.today()\n",
    "friday = today + datetime.timedelta( (4-today.weekday()) % 7 )\n",
    "next_friday_datetime = str(friday)+\"T00:00:00\"\n",
    "start_date_local = next_friday_datetime"
   ]
  },
  {
   "cell_type": "code",
   "execution_count": 8,
   "metadata": {},
   "outputs": [],
   "source": [
    "response = requests.get(api_url+\"/api/v3/trips?key=\"+api_token+\"&from_coordinate=\"+from_coordinate+\"&from_country=\"\n",
    "                        +from_country+\"&to_coordinate=\"+to_coordinate+\"&to_country=\"+to_country+\"&locale=\"+locale+\"&currency=\"\n",
    "                        +currency+\"&count=\"+number_of_trips_we_want_returned+\"&start_date_local=\"+start_date_local\n",
    "                        +\"&radius_in_meters=\"+radius_in_meters+\"&sort=price:asc\") "
   ]
  },
  {
   "cell_type": "code",
   "execution_count": 9,
   "metadata": {},
   "outputs": [
    {
     "name": "stdout",
     "output_type": "stream",
     "text": [
      "200\n"
     ]
    }
   ],
   "source": [
    "print(response.status_code) # SHOULD BE 200"
   ]
  },
  {
   "cell_type": "code",
   "execution_count": 10,
   "metadata": {},
   "outputs": [],
   "source": [
    "json_trips = response.json() # it's a dictionnary"
   ]
  },
  {
   "cell_type": "code",
   "execution_count": 11,
   "metadata": {},
   "outputs": [],
   "source": [
    "new_dict = {'trip_id':[],'price_of_the_trip':[],'date':[]}\n",
    "for dict_trip in json_trips[\"trips\"]:\n",
    "    trip_id =  dict_trip[\"link\"].split(\"id=\")[1].split(\"-\")[0]\n",
    "    price_of_the_trip = dict_trip[\"price\"][\"amount\"]\n",
    "    new_dict['trip_id'].append(trip_id)\n",
    "    new_dict['price_of_the_trip'].append(price_of_the_trip)\n",
    "    new_dict['date'].append(start_date_local[:10])"
   ]
  },
  {
   "cell_type": "code",
   "execution_count": 12,
   "metadata": {},
   "outputs": [
    {
     "data": {
      "text/html": [
       "<div>\n",
       "<style scoped>\n",
       "    .dataframe tbody tr th:only-of-type {\n",
       "        vertical-align: middle;\n",
       "    }\n",
       "\n",
       "    .dataframe tbody tr th {\n",
       "        vertical-align: top;\n",
       "    }\n",
       "\n",
       "    .dataframe thead th {\n",
       "        text-align: right;\n",
       "    }\n",
       "</style>\n",
       "<table border=\"1\" class=\"dataframe\">\n",
       "  <thead>\n",
       "    <tr style=\"text-align: right;\">\n",
       "      <th></th>\n",
       "      <th>trip_id</th>\n",
       "      <th>price_of_the_trip</th>\n",
       "      <th>date</th>\n",
       "    </tr>\n",
       "  </thead>\n",
       "  <tbody>\n",
       "    <tr>\n",
       "      <th>0</th>\n",
       "      <td>2030433816</td>\n",
       "      <td>11.25</td>\n",
       "      <td>2020-08-21</td>\n",
       "    </tr>\n",
       "    <tr>\n",
       "      <th>1</th>\n",
       "      <td>2030837206</td>\n",
       "      <td>12.50</td>\n",
       "      <td>2020-08-21</td>\n",
       "    </tr>\n",
       "    <tr>\n",
       "      <th>2</th>\n",
       "      <td>2026019926</td>\n",
       "      <td>12.50</td>\n",
       "      <td>2020-08-21</td>\n",
       "    </tr>\n",
       "    <tr>\n",
       "      <th>3</th>\n",
       "      <td>2032368386</td>\n",
       "      <td>12.50</td>\n",
       "      <td>2020-08-21</td>\n",
       "    </tr>\n",
       "    <tr>\n",
       "      <th>4</th>\n",
       "      <td>2032398641</td>\n",
       "      <td>13.75</td>\n",
       "      <td>2020-08-21</td>\n",
       "    </tr>\n",
       "  </tbody>\n",
       "</table>\n",
       "</div>"
      ],
      "text/plain": [
       "      trip_id price_of_the_trip        date\n",
       "0  2030433816             11.25  2020-08-21\n",
       "1  2030837206             12.50  2020-08-21\n",
       "2  2026019926             12.50  2020-08-21\n",
       "3  2032368386             12.50  2020-08-21\n",
       "4  2032398641             13.75  2020-08-21"
      ]
     },
     "execution_count": 12,
     "metadata": {},
     "output_type": "execute_result"
    }
   ],
   "source": [
    "new_df = pd.DataFrame.from_dict(new_dict)\n",
    "new_df.head()"
   ]
  },
  {
   "cell_type": "code",
   "execution_count": 13,
   "metadata": {},
   "outputs": [],
   "source": [
    "#old_df = pd.read_csv(\"./blablacar_rennes_brest.csv\",index_col = \"Unnamed: 0\") \n",
    "#old_df.head()\n",
    "#df_trips = old_df.append(new_df, ignore_index=True, sort=False)\n",
    "#df_trips.head()\n",
    "#df_trips.to_csv(\"./blablacar_rennes_brest.csv\")"
   ]
  },
  {
   "cell_type": "code",
   "execution_count": null,
   "metadata": {},
   "outputs": [],
   "source": []
  }
 ],
 "metadata": {
  "kernelspec": {
   "display_name": "Python 3",
   "language": "python",
   "name": "python3"
  },
  "language_info": {
   "codemirror_mode": {
    "name": "ipython",
    "version": 3
   },
   "file_extension": ".py",
   "mimetype": "text/x-python",
   "name": "python",
   "nbconvert_exporter": "python",
   "pygments_lexer": "ipython3",
   "version": "3.8.5"
  }
 },
 "nbformat": 4,
 "nbformat_minor": 4
}
