{
 "cells": [
  {
   "cell_type": "markdown",
   "metadata": {},
   "source": [
    "We start with basic imports to use blablacar web api."
   ]
  },
  {
   "cell_type": "code",
   "execution_count": 1,
   "metadata": {},
   "outputs": [],
   "source": [
    "#%pip install pandas"
   ]
  },
  {
   "cell_type": "code",
   "execution_count": 2,
   "metadata": {},
   "outputs": [],
   "source": [
    "#%pip install fsspec"
   ]
  },
  {
   "cell_type": "code",
   "execution_count": 3,
   "metadata": {},
   "outputs": [],
   "source": [
    "import json\n",
    "import requests\n",
    "import pandas as pd"
   ]
  },
  {
   "cell_type": "markdown",
   "metadata": {},
   "source": [
    "Dès qu'on reçoit l'API on part là-dessus : https://dev.blablacar.com/hc/en-us/articles/360012064820--Search-V3-API-Documentation"
   ]
  },
  {
   "cell_type": "code",
   "execution_count": 4,
   "metadata": {},
   "outputs": [],
   "source": [
    "api_token = open(\"./api/api.txt\",\"r\").read()\n",
    "api_url = \"https://public-api.blablacar.com\""
   ]
  },
  {
   "cell_type": "markdown",
   "metadata": {},
   "source": [
    "fn=Rennes%2C%20France&fc=48.117266%2C-1.677793&\n",
    "tn=Brest%2C%20France&tc=48.390394%2C-4.486076&\n",
    "tcc=FR&formatted_to=Brest&db=2020-08-21&\n",
    "departure_location_id=eyJpIjoiQ2hJSmhaRFdweV9lRGtnUk1LdmtOczJsREFRIiwicCI6MSwidiI6MSwidCI6W119&\n",
    "arrival_location_id=eyJpIjoiQ2hJSmsxdVMyZUc3RmtnUnF6Q2NGMWlEU01ZIiwicCI6MSwidiI6MSwidCI6W119&\n",
    "departure_city=Rennes&\n",
    "arrival_city=Brest&seats=1&searchOrigin=search_edit\n",
    "    "
   ]
  },
  {
   "cell_type": "code",
   "execution_count": 5,
   "metadata": {},
   "outputs": [],
   "source": [
    "from_coordinate = \"48.117266%2C-1.677793\" # string : latitude, longitude - RENNES\n",
    "to_coordinate = \"48.390394%2C-4.486076\" # string : latitude, longitude - BREST\n",
    "from_country = \"FR\" # string : ISO_3166_1\n",
    "to_country = \"FR\" # string : ISO_3166_1\n",
    "locale = \"fr-FR\" # string : locale in which the result will be displayed https://dev.blablacar.com/hc/en-us/articles/360008930020\n",
    "currency = \"EUR\" # string : ISO_4217 currency\n",
    "number_of_trips_we_want_returned = \"100\" # int : from 1 to 100, default is 10 \n",
    "start_date_local = \"2020-08-21T17:00:00\" # string(date-time) : Format: \"yyyy-M-dTHH:mm:ss\"\n",
    "requested_seats = \"1\" # int : minimum number of seats requested, default value is 1\n",
    "radius_in_meters = \"6000\" # int : radius of the circle around the coordinates in which trips will be searched from (in meters)"
   ]
  },
  {
   "cell_type": "code",
   "execution_count": 6,
   "metadata": {},
   "outputs": [],
   "source": [
    "response = requests.get(api_url+\"/api/v3/trips?key=\"+api_token+\"&from_coordinate=\"+from_coordinate+\"&from_country=\"\n",
    "                        +from_country+\"&to_coordinate=\"+to_coordinate+\"&to_country=\"+to_country+\"&locale=\"+locale+\"&currency=\"\n",
    "                        +currency+\"&count=\"+number_of_trips_we_want_returned+\"&start_date_local=\"+start_date_local\n",
    "                        +\"&radius_in_meters=\"+radius_in_meters+\"&sort=price:asc\") "
   ]
  },
  {
   "cell_type": "code",
   "execution_count": 28,
   "metadata": {},
   "outputs": [
    {
     "name": "stdout",
     "output_type": "stream",
     "text": [
      "200\n"
     ]
    }
   ],
   "source": [
    "print(response.status_code) # SHOULD BE 200"
   ]
  },
  {
   "cell_type": "code",
   "execution_count": 12,
   "metadata": {},
   "outputs": [],
   "source": [
    "json_trips = response.json() # it's a dictionnary"
   ]
  },
  {
   "cell_type": "code",
   "execution_count": 14,
   "metadata": {},
   "outputs": [
    {
     "name": "stdout",
     "output_type": "stream",
     "text": [
      "\n",
      "\n",
      "{'link': 'https://www.blablacar.fr/trip?source=CARPOOLING&id=2030433816-rennes-brest', 'waypoints': [{'date_time': '2020-08-21T17:00:00Z', 'place': {'city': 'Rennes', 'address': 'Campus Beaulieu, Rennes', 'latitude': 48.1218, 'longitude': -1.64354, 'country_code': 'FR'}}, {'date_time': '2020-08-21T20:20:00Z', 'place': {'city': 'Brest', 'address': 'Fort Montbarey, Brest', 'latitude': 48.3786, 'longitude': -4.54985, 'country_code': 'FR'}}], 'price': {'amount': '11.25', 'currency': 'EUR'}, 'vehicle': {'make': 'PEUGEOT', 'model': '208'}, 'distance_in_meters': 255543, 'duration_in_seconds': 12000}\n",
      "\n",
      "\n",
      "--------------------------------------------------------------------------------------------------\n",
      "\n",
      "\n",
      "{'link': 'https://www.blablacar.fr/trip?source=CARPOOLING&id=2026019926-saint-jacques-de-la-lande-brest', 'waypoints': [{'date_time': '2020-08-21T18:00:00Z', 'place': {'city': 'Saint-Jacques-de-la-Lande', 'address': 'castorama rennes st jacques', 'latitude': 48.08798, 'longitude': -1.704612, 'country_code': 'FR'}}, {'date_time': '2020-08-21T20:50:00Z', 'place': {'city': 'Brest', 'address': \"Rond-Point de Pen Ar C'hleuz, 29200 Brest\", 'latitude': 48.414671, 'longitude': -4.478853, 'country_code': 'FR'}}], 'price': {'amount': '12.50', 'currency': 'EUR'}, 'vehicle': {'make': 'PEUGEOT', 'model': '2008'}, 'distance_in_meters': 238667, 'duration_in_seconds': 10200}\n",
      "\n",
      "\n",
      "--------------------------------------------------------------------------------------------------\n",
      "\n",
      "\n",
      "{'link': 'https://www.blablacar.fr/trip?source=CARPOOLING&id=2014886656-rennes-brest', 'waypoints': [{'date_time': '2020-08-21T20:10:00Z', 'place': {'city': 'Rennes', 'address': 'J.F. Kennedy, Rennes', 'latitude': 48.121236, 'longitude': -1.713301, 'country_code': 'FR'}}, {'date_time': '2020-08-21T22:50:00Z', 'place': {'city': 'Brest', 'address': 'Kergaradec (station de tramway), Brest', 'latitude': 48.424479, 'longitude': -4.466916, 'country_code': 'FR'}}], 'price': {'amount': '12.50', 'currency': 'EUR'}, 'vehicle': {'make': 'PEUGEOT', 'model': '207'}, 'distance_in_meters': 234167, 'duration_in_seconds': 9600}\n",
      "\n",
      "\n",
      "--------------------------------------------------------------------------------------------------\n",
      "\n",
      "\n",
      "{'link': 'https://www.blablacar.fr/trip?source=CARPOOLING&id=2030108726-rennes-brest', 'waypoints': [{'date_time': '2020-08-21T20:20:00Z', 'place': {'city': 'Rennes', 'address': '215 Rue de Vern, 35200 Rennes', 'latitude': 48.087394, 'longitude': -1.644323, 'country_code': 'FR'}}, {'date_time': '2020-08-21T23:20:00Z', 'place': {'city': 'Brest', 'address': 'Gare de Brest, Brest', 'latitude': 48.387563, 'longitude': -4.480924, 'country_code': 'FR'}}], 'price': {'amount': '12.50', 'currency': 'EUR'}, 'vehicle': {'make': 'CITROEN', 'model': 'C1'}, 'distance_in_meters': 247945, 'duration_in_seconds': 10800}\n",
      "\n",
      "\n",
      "--------------------------------------------------------------------------------------------------\n",
      "\n",
      "\n",
      "{'link': 'https://www.blablacar.fr/trip?source=CARPOOLING&id=2029796031-rennes-brest', 'waypoints': [{'date_time': '2020-08-21T17:30:00Z', 'place': {'city': 'Rennes', 'address': 'Parking Arsenal C-PARK, Rennes', 'latitude': 48.104562, 'longitude': -1.684763, 'country_code': 'FR'}}, {'date_time': '2020-08-21T20:20:00Z', 'place': {'city': 'Brest', 'address': \"Rond-Point Pen Ar C'hleuz (Brest)\", 'latitude': 48.414671, 'longitude': -4.478853, 'country_code': 'FR'}}], 'price': {'amount': '13.75', 'currency': 'EUR'}, 'vehicle': {'make': 'NISSAN', 'model': 'PULSAR'}, 'distance_in_meters': 238355, 'duration_in_seconds': 10200}\n",
      "\n",
      "\n",
      "--------------------------------------------------------------------------------------------------\n"
     ]
    }
   ],
   "source": [
    "for json_ in json_trips['trips']:\n",
    "    print('\\n')\n",
    "    print(json_)\n",
    "    print('\\n')\n",
    "    print('--------------------------------------------------------------------------------------------------')"
   ]
  },
  {
   "cell_type": "code",
   "execution_count": 42,
   "metadata": {},
   "outputs": [],
   "source": [
    "new_dict = {'trip_id':[],'price_of_the_trip':[]}\n",
    "for dict_trip in json_trips[\"trips\"]:\n",
    "    trip_id =  dict_trip[\"link\"].split(\"id=\")[1].split(\"-\")[0]\n",
    "    #number_of_passenger =  dict_trip[\"link\"].split(\"id=\")[1].split(\"-\")[0]\n",
    "    price_of_the_trip = dict_trip[\"price\"][\"amount\"]\n",
    "    new_dict['trip_id'].append(trip_id)\n",
    "    new_dict['price_of_the_trip'].append(price_of_the_trip)"
   ]
  },
  {
   "cell_type": "code",
   "execution_count": 43,
   "metadata": {},
   "outputs": [],
   "source": [
    "# text_trips = response.text # it's a text"
   ]
  },
  {
   "cell_type": "code",
   "execution_count": 44,
   "metadata": {},
   "outputs": [
    {
     "data": {
      "text/html": [
       "<div>\n",
       "<style scoped>\n",
       "    .dataframe tbody tr th:only-of-type {\n",
       "        vertical-align: middle;\n",
       "    }\n",
       "\n",
       "    .dataframe tbody tr th {\n",
       "        vertical-align: top;\n",
       "    }\n",
       "\n",
       "    .dataframe thead th {\n",
       "        text-align: right;\n",
       "    }\n",
       "</style>\n",
       "<table border=\"1\" class=\"dataframe\">\n",
       "  <thead>\n",
       "    <tr style=\"text-align: right;\">\n",
       "      <th></th>\n",
       "      <th>trip_id</th>\n",
       "      <th>price_of_the_trip</th>\n",
       "    </tr>\n",
       "  </thead>\n",
       "  <tbody>\n",
       "    <tr>\n",
       "      <th>0</th>\n",
       "      <td>2030433816</td>\n",
       "      <td>11.25</td>\n",
       "    </tr>\n",
       "    <tr>\n",
       "      <th>1</th>\n",
       "      <td>2026019926</td>\n",
       "      <td>12.50</td>\n",
       "    </tr>\n",
       "    <tr>\n",
       "      <th>2</th>\n",
       "      <td>2014886656</td>\n",
       "      <td>12.50</td>\n",
       "    </tr>\n",
       "    <tr>\n",
       "      <th>3</th>\n",
       "      <td>2030108726</td>\n",
       "      <td>12.50</td>\n",
       "    </tr>\n",
       "    <tr>\n",
       "      <th>4</th>\n",
       "      <td>2029796031</td>\n",
       "      <td>13.75</td>\n",
       "    </tr>\n",
       "  </tbody>\n",
       "</table>\n",
       "</div>"
      ],
      "text/plain": [
       "      trip_id price_of_the_trip\n",
       "0  2030433816             11.25\n",
       "1  2026019926             12.50\n",
       "2  2014886656             12.50\n",
       "3  2030108726             12.50\n",
       "4  2029796031             13.75"
      ]
     },
     "execution_count": 44,
     "metadata": {},
     "output_type": "execute_result"
    }
   ],
   "source": [
    "df_trips = pd.DataFrame.from_dict(new_dict)\n",
    "df_trips.head()"
   ]
  }
 ],
 "metadata": {
  "kernelspec": {
   "display_name": "Python 3",
   "language": "python",
   "name": "python3"
  },
  "language_info": {
   "codemirror_mode": {
    "name": "ipython",
    "version": 3
   },
   "file_extension": ".py",
   "mimetype": "text/x-python",
   "name": "python",
   "nbconvert_exporter": "python",
   "pygments_lexer": "ipython3",
   "version": "3.8.5"
  }
 },
 "nbformat": 4,
 "nbformat_minor": 4
}
