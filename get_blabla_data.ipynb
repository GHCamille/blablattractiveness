{
 "cells": [
  {
   "cell_type": "markdown",
   "metadata": {},
   "source": [
    "# Blablattractivity - Local and tests -"
   ]
  },
  {
   "cell_type": "markdown",
   "metadata": {},
   "source": [
    "## Data collection"
   ]
  },
  {
   "cell_type": "markdown",
   "metadata": {},
   "source": [
    "We start with basic imports to use blablacar web api."
   ]
  },
  {
   "cell_type": "code",
   "execution_count": 1,
   "metadata": {},
   "outputs": [],
   "source": [
    "#%pip install pandas"
   ]
  },
  {
   "cell_type": "code",
   "execution_count": 2,
   "metadata": {},
   "outputs": [],
   "source": [
    "#%pip install fsspec"
   ]
  },
  {
   "cell_type": "code",
   "execution_count": 3,
   "metadata": {},
   "outputs": [],
   "source": [
    "#%pip install google-cloud-storage"
   ]
  },
  {
   "cell_type": "code",
   "execution_count": 17,
   "metadata": {},
   "outputs": [],
   "source": [
    "#%pip install matplotlib"
   ]
  },
  {
   "cell_type": "code",
   "execution_count": 50,
   "metadata": {},
   "outputs": [],
   "source": [
    "#%pip install seaborn"
   ]
  },
  {
   "cell_type": "code",
   "execution_count": 342,
   "metadata": {},
   "outputs": [],
   "source": [
    "import json\n",
    "import requests\n",
    "import numpy as np\n",
    "import pandas as pd\n",
    "import matplotlib.pyplot as plt\n",
    "from matplotlib.ticker import AutoMinorLocator\n",
    "import matplotlib.dates as mdates\n",
    "import seaborn as sns\n",
    "from google.cloud import storage\n",
    "import datetime \n",
    "from math import ceil, floor"
   ]
  },
  {
   "cell_type": "markdown",
   "metadata": {},
   "source": [
    "Dès qu'on reçoit l'API on part là-dessus : https://dev.blablacar.com/hc/en-us/articles/360012064820--Search-V3-API-Documentation"
   ]
  },
  {
   "cell_type": "code",
   "execution_count": 5,
   "metadata": {},
   "outputs": [],
   "source": [
    "api_token = open(\"./api.txt\",\"r\").read()\n",
    "api_url = \"https://public-api.blablacar.com\""
   ]
  },
  {
   "cell_type": "markdown",
   "metadata": {},
   "source": [
    "We have the basic parameters of our API call :"
   ]
  },
  {
   "cell_type": "code",
   "execution_count": 6,
   "metadata": {},
   "outputs": [],
   "source": [
    "from_coordinate = \"48.117266%2C-1.677793\" # string : latitude, longitude - RENNES\n",
    "to_coordinate = \"48.390394%2C-4.486076\" # string : latitude, longitude - BREST\n",
    "from_country = \"FR\" # string : ISO_3166_1\n",
    "to_country = \"FR\" # string : ISO_3166_1\n",
    "locale = \"fr-FR\" # string : locale in which the result will be displayed https://dev.blablacar.com/hc/en-us/articles/360008930020\n",
    "currency = \"EUR\" # string : ISO_4217 currency\n",
    "number_of_trips_we_want_returned = \"100\" # int : from 1 to 100, default is 10 \n",
    "requested_seats = \"1\" # int : minimum number of seats requested, default value is 1\n",
    "radius_in_meters = \"6000\" # int : radius of the circle around the coordinates in which trips will be searched from (in meters)"
   ]
  },
  {
   "cell_type": "markdown",
   "metadata": {},
   "source": [
    "Then the date of the trip will be different everytime we run the code (it has to be next friday everytime), so we compute it here :"
   ]
  },
  {
   "cell_type": "code",
   "execution_count": 7,
   "metadata": {},
   "outputs": [],
   "source": [
    "today = datetime.date.today()\n",
    "friday = today + datetime.timedelta( (4-today.weekday()) % 7 )\n",
    "next_friday_datetime = str(friday)+\"T00:00:00\"\n",
    "start_date_local = next_friday_datetime\n",
    "title_date = next_friday_datetime[:10].replace('-','')"
   ]
  },
  {
   "cell_type": "code",
   "execution_count": 8,
   "metadata": {},
   "outputs": [],
   "source": [
    "response = requests.get(api_url+\"/api/v3/trips?key=\"+api_token+\"&from_coordinate=\"+from_coordinate+\"&from_country=\"\n",
    "                        +from_country+\"&to_coordinate=\"+to_coordinate+\"&to_country=\"+to_country+\"&locale=\"+locale+\"&currency=\"\n",
    "                        +currency+\"&count=\"+number_of_trips_we_want_returned+\"&start_date_local=\"+start_date_local\n",
    "                        +\"&radius_in_meters=\"+radius_in_meters+\"&sort=price:asc\") "
   ]
  },
  {
   "cell_type": "code",
   "execution_count": 9,
   "metadata": {},
   "outputs": [
    {
     "name": "stdout",
     "output_type": "stream",
     "text": [
      "200\n"
     ]
    }
   ],
   "source": [
    "print(response.status_code) # SHOULD BE 200"
   ]
  },
  {
   "cell_type": "code",
   "execution_count": 10,
   "metadata": {},
   "outputs": [],
   "source": [
    "json_trips = response.json() # it's a dictionnary"
   ]
  },
  {
   "cell_type": "code",
   "execution_count": 11,
   "metadata": {},
   "outputs": [],
   "source": [
    "new_dict = {'trip_id':[],'price_of_the_trip':[],'date':[]}\n",
    "for dict_trip in json_trips[\"trips\"]:\n",
    "    trip_id =  dict_trip[\"link\"].split(\"id=\")[1].split(\"-\")[0]\n",
    "    price_of_the_trip = dict_trip[\"price\"][\"amount\"]\n",
    "    new_dict['trip_id'].append(trip_id)\n",
    "    new_dict['price_of_the_trip'].append(price_of_the_trip)\n",
    "    new_dict['date'].append(start_date_local[:10])"
   ]
  },
  {
   "cell_type": "code",
   "execution_count": 29,
   "metadata": {},
   "outputs": [
    {
     "data": {
      "text/plain": [
       "trip_id               object\n",
       "price_of_the_trip    float64\n",
       "date                  object\n",
       "dtype: object"
      ]
     },
     "execution_count": 29,
     "metadata": {},
     "output_type": "execute_result"
    }
   ],
   "source": [
    "new_df = pd.DataFrame.from_dict(new_dict)\n",
    "new_df.price_of_the_trip = new_df.price_of_the_trip.astype('float')    "
   ]
  },
  {
   "cell_type": "code",
   "execution_count": 13,
   "metadata": {},
   "outputs": [],
   "source": [
    "#old_df = pd.read_csv(\"./blablacar_rennes_brest.csv\",index_col = \"Unnamed: 0\") \n",
    "#old_df.head()\n",
    "#df_trips = old_df.append(new_df, ignore_index=True, sort=False)\n",
    "#df_trips.head()\n",
    "#df_trips.to_csv(\"./blablacar_rennes_brest.csv\")"
   ]
  },
  {
   "cell_type": "markdown",
   "metadata": {},
   "source": [
    "## Visualization"
   ]
  },
  {
   "cell_type": "code",
   "execution_count": 360,
   "metadata": {},
   "outputs": [],
   "source": [
    "df_trips = pd.read_csv(\"./blablacar_rennes_brest.csv\",index_col = \"Unnamed: 0\") "
   ]
  },
  {
   "cell_type": "markdown",
   "metadata": {},
   "source": [
    "### Plot number of trips per day"
   ]
  },
  {
   "cell_type": "code",
   "execution_count": 376,
   "metadata": {},
   "outputs": [],
   "source": [
    "df_count = df_trips.copy(deep=True)"
   ]
  },
  {
   "cell_type": "code",
   "execution_count": 377,
   "metadata": {},
   "outputs": [],
   "source": [
    "df_count['date_'] = pd.to_datetime(df_count['date'], format='%Y-%m-%d')"
   ]
  },
  {
   "cell_type": "code",
   "execution_count": 378,
   "metadata": {},
   "outputs": [
    {
     "name": "stderr",
     "output_type": "stream",
     "text": [
      "<ipython-input-378-677b4475a64d>:12: UserWarning: FixedFormatter should only be used together with FixedLocator\n",
      "  ax.set_xticklabels(df_count.date)\n"
     ]
    },
    {
     "data": {
      "image/png": "[encoded data removed]",
      "text/plain": [
       "<Figure size 1080x504 with 1 Axes>"
      ]
     },
     "metadata": {},
     "output_type": "display_data"
    }
   ],
   "source": [
    "sns.set_style('darkgrid')\n",
    "plt.figure(figsize=(15,7))\n",
    "\n",
    "max_date = df_count['date_'].max().date()\n",
    "min_date = df_count['date_'].min().date()\n",
    "date_range = max_date - min_date\n",
    "date_range = date_range.days\n",
    "\n",
    "ax = sns.distplot(df_count.date_, bins=2*date_range,kde=False, rug=True)\n",
    "\n",
    "ax.set_title('Number of Rennes > Brest trips', fontsize=20) \n",
    "ax.set_xticklabels(df_count.date) \n",
    "\n",
    "ax.set_ylabel('Number of trips', fontsize=15)\n",
    "\n",
    "plt.show()"
   ]
  },
  {
   "cell_type": "code",
   "execution_count": 379,
   "metadata": {},
   "outputs": [],
   "source": [
    "fig = ax.get_figure()\n",
    "fig.savefig('./Plots/number_of_trips_' + title_date + '.png', dpi = 160, format = 'png')"
   ]
  },
  {
   "cell_type": "markdown",
   "metadata": {},
   "source": [
    "### Plot mean price per day"
   ]
  },
  {
   "cell_type": "code",
   "execution_count": 38,
   "metadata": {},
   "outputs": [
    {
     "data": {
      "text/html": [
       "<div>\n",
       "<style scoped>\n",
       "    .dataframe tbody tr th:only-of-type {\n",
       "        vertical-align: middle;\n",
       "    }\n",
       "\n",
       "    .dataframe tbody tr th {\n",
       "        vertical-align: top;\n",
       "    }\n",
       "\n",
       "    .dataframe thead th {\n",
       "        text-align: right;\n",
       "    }\n",
       "</style>\n",
       "<table border=\"1\" class=\"dataframe\">\n",
       "  <thead>\n",
       "    <tr style=\"text-align: right;\">\n",
       "      <th></th>\n",
       "      <th>date</th>\n",
       "      <th>mean</th>\n",
       "    </tr>\n",
       "  </thead>\n",
       "  <tbody>\n",
       "    <tr>\n",
       "      <th>0</th>\n",
       "      <td>2020-08-21</td>\n",
       "      <td>12.500000</td>\n",
       "    </tr>\n",
       "    <tr>\n",
       "      <th>1</th>\n",
       "      <td>2020-08-28</td>\n",
       "      <td>13.458333</td>\n",
       "    </tr>\n",
       "  </tbody>\n",
       "</table>\n",
       "</div>"
      ],
      "text/plain": [
       "         date       mean\n",
       "0  2020-08-21  12.500000\n",
       "1  2020-08-28  13.458333"
      ]
     },
     "execution_count": 38,
     "metadata": {},
     "output_type": "execute_result"
    }
   ],
   "source": [
    "df_mean = df_trips.groupby(['date'])['price_of_the_trip'].mean().reset_index(name='mean')\n",
    "df_mean"
   ]
  },
  {
   "cell_type": "markdown",
   "metadata": {},
   "source": [
    "### Plot median price per day"
   ]
  },
  {
   "cell_type": "code",
   "execution_count": 39,
   "metadata": {},
   "outputs": [
    {
     "data": {
      "text/html": [
       "<div>\n",
       "<style scoped>\n",
       "    .dataframe tbody tr th:only-of-type {\n",
       "        vertical-align: middle;\n",
       "    }\n",
       "\n",
       "    .dataframe tbody tr th {\n",
       "        vertical-align: top;\n",
       "    }\n",
       "\n",
       "    .dataframe thead th {\n",
       "        text-align: right;\n",
       "    }\n",
       "</style>\n",
       "<table border=\"1\" class=\"dataframe\">\n",
       "  <thead>\n",
       "    <tr style=\"text-align: right;\">\n",
       "      <th></th>\n",
       "      <th>date</th>\n",
       "      <th>median</th>\n",
       "    </tr>\n",
       "  </thead>\n",
       "  <tbody>\n",
       "    <tr>\n",
       "      <th>0</th>\n",
       "      <td>2020-08-21</td>\n",
       "      <td>12.500</td>\n",
       "    </tr>\n",
       "    <tr>\n",
       "      <th>1</th>\n",
       "      <td>2020-08-28</td>\n",
       "      <td>13.125</td>\n",
       "    </tr>\n",
       "  </tbody>\n",
       "</table>\n",
       "</div>"
      ],
      "text/plain": [
       "         date  median\n",
       "0  2020-08-21  12.500\n",
       "1  2020-08-28  13.125"
      ]
     },
     "execution_count": 39,
     "metadata": {},
     "output_type": "execute_result"
    }
   ],
   "source": [
    "df_median = df_trips.groupby(['date'])['price_of_the_trip'].median().reset_index(name='median')\n",
    "df_median"
   ]
  },
  {
   "cell_type": "markdown",
   "metadata": {},
   "source": [
    "### Frequency plot"
   ]
  },
  {
   "cell_type": "code",
   "execution_count": 76,
   "metadata": {},
   "outputs": [],
   "source": [
    "df_price_freq = df_trips.groupby(df_trips['price_of_the_trip']).size().reset_index(name='price_count')"
   ]
  },
  {
   "cell_type": "code",
   "execution_count": 290,
   "metadata": {},
   "outputs": [
    {
     "data": {
      "image/png": "[encoded data removed]",
      "text/plain": [
       "<Figure size 1080x504 with 1 Axes>"
      ]
     },
     "metadata": {},
     "output_type": "display_data"
    }
   ],
   "source": [
    "sns.set_style('darkgrid')\n",
    "\n",
    "xticks_max = ceil(df_trips.price_of_the_trip.max())\n",
    "xticks_min = floor(df_trips.price_of_the_trip.min())\n",
    "xticks_range = xticks_max - xticks_min\n",
    "\n",
    "plt.figure(figsize=(15,7))\n",
    "ax = sns.distplot(df_trips.price_of_the_trip, bins=4*xticks_range+1, kde=False, rug=True)\n",
    "\n",
    "xticks_major = df_trips.price_of_the_trip\n",
    "xticks_minor = np.linspace(xticks_min, xticks_max, 4*xticks_range+1)\n",
    "xticks_minor = np.around(xticks_minor, 2)\n",
    "\n",
    "ax.set_xticks(xticks_minor) # new_minor_xtick_label_value \n",
    "ax.set_xticklabels(xticks_minor, color='#616A6B') # rotation=90, \n",
    "ax.set_title('Distribution of prices for Rennes > Brest trips', fontsize=20) \n",
    "ax.set_xlabel('Prices Rennes > Brest', fontsize=15, labelpad = 20 )\n",
    "ax.set_ylabel('Number of trips', fontsize=15)\n",
    "\n",
    "secax = ax.secondary_xaxis('bottom')\n",
    "secax.set_xticks(xticks_major) \n",
    "xticks_major_labels = np.full((len(xticks_major),), '___')\n",
    "secax.set_xticklabels(xticks_major_labels, fontsize=12, color='#17202A')\n",
    "\n",
    "plt.show()"
   ]
  },
  {
   "cell_type": "code",
   "execution_count": 297,
   "metadata": {},
   "outputs": [],
   "source": [
    "fig = ax.get_figure()\n",
    "fig.savefig('./Plots/prices_distribution_' + title_date + '.png', dpi = 160, format = 'png')"
   ]
  }
 ],
 "metadata": {
  "kernelspec": {
   "display_name": "Python 3",
   "language": "python",
   "name": "python3"
  },
  "language_info": {
   "codemirror_mode": {
    "name": "ipython",
    "version": 3
   },
   "file_extension": ".py",
   "mimetype": "text/x-python",
   "name": "python",
   "nbconvert_exporter": "python",
   "pygments_lexer": "ipython3",
   "version": "3.8.5"
  }
 },
 "nbformat": 4,
 "nbformat_minor": 4
}
