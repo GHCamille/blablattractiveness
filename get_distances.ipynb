{
 "cells": [
  {
   "cell_type": "markdown",
   "metadata": {},
   "source": [
    "# Find distances"
   ]
  },
  {
   "cell_type": "code",
   "execution_count": 7,
   "metadata": {},
   "outputs": [
    {
     "name": "stdout",
     "output_type": "stream",
     "text": [
      "Collecting geopy\n",
      "  Downloading geopy-2.0.0-py3-none-any.whl (111 kB)\n",
      "Collecting geographiclib<2,>=1.49\n",
      "  Downloading geographiclib-1.50-py3-none-any.whl (38 kB)\n",
      "Installing collected packages: geographiclib, geopy\n",
      "Successfully installed geographiclib-1.50 geopy-2.0.0\n",
      "Note: you may need to restart the kernel to use updated packages.\n"
     ]
    },
    {
     "name": "stderr",
     "output_type": "stream",
     "text": [
      "WARNING: You are using pip version 20.1.1; however, version 20.2.2 is available.\n",
      "You should consider upgrading via the 'c:\\python38\\python.exe -m pip install --upgrade pip' command.\n"
     ]
    }
   ],
   "source": [
    "#%pip install geopy"
   ]
  },
  {
   "cell_type": "code",
   "execution_count": 45,
   "metadata": {},
   "outputs": [],
   "source": [
    "import numpy as np\n",
    "import pandas as pd\n",
    "import seaborn as sns\n",
    "from geopy import distance\n",
    "import datetime \n",
    "from math import ceil, floor"
   ]
  },
  {
   "cell_type": "code",
   "execution_count": 47,
   "metadata": {},
   "outputs": [],
   "source": [
    "def get_distance(row):\n",
    "    current_origin = row['Origin']\n",
    "    current_destination = row['Destination']\n",
    "    from_coordinate = row['From_coordinate'] # string : latitude, longitude - current_origin\n",
    "    to_coordinate = row['To_coordinate'] # string : latitude, longitude - current_destination\n",
    "    \n",
    "    len_col = len(from_coordinate.split('%')[1])-2\n",
    "    len_cdl = len(to_coordinate.split('%')[1])-2\n",
    "    \n",
    "    geodesic_current_origin_latitude = from_coordinate.split('%')[0]\n",
    "    geodesic_current_origin_longitude = from_coordinate.split('%')[1][-len_col:]\n",
    "    geodesic_current_destination_latitude = to_coordinate.split('%')[0]\n",
    "    geodesic_current_destination_longitude = to_coordinate.split('%')[1][-len_cdl:]\n",
    "    \n",
    "    geodesic_current_origin = (float(geodesic_current_origin_latitude),float(geodesic_current_origin_longitude))\n",
    "    geodesic_current_destination = (float(geodesic_current_destination_latitude),float(geodesic_current_destination_longitude))\n",
    "    \n",
    "    origin_dest_distance = distance.distance(geodesic_current_origin, geodesic_current_destination).km\n",
    "    return origin_dest_distance"
   ]
  },
  {
   "cell_type": "code",
   "execution_count": 49,
   "metadata": {},
   "outputs": [
    {
     "data": {
      "text/html": [
       "<div>\n",
       "<style scoped>\n",
       "    .dataframe tbody tr th:only-of-type {\n",
       "        vertical-align: middle;\n",
       "    }\n",
       "\n",
       "    .dataframe tbody tr th {\n",
       "        vertical-align: top;\n",
       "    }\n",
       "\n",
       "    .dataframe thead th {\n",
       "        text-align: right;\n",
       "    }\n",
       "</style>\n",
       "<table border=\"1\" class=\"dataframe\">\n",
       "  <thead>\n",
       "    <tr style=\"text-align: right;\">\n",
       "      <th></th>\n",
       "      <th>Origin</th>\n",
       "      <th>Destination</th>\n",
       "      <th>From_coordinate</th>\n",
       "      <th>To_coordinate</th>\n",
       "      <th>Distance</th>\n",
       "    </tr>\n",
       "  </thead>\n",
       "  <tbody>\n",
       "    <tr>\n",
       "      <th>0</th>\n",
       "      <td>Paris</td>\n",
       "      <td>Brest</td>\n",
       "      <td>48.856614%7C2.352221</td>\n",
       "      <td>48.390394%7C-4.486076</td>\n",
       "      <td>506.615402</td>\n",
       "    </tr>\n",
       "    <tr>\n",
       "      <th>1</th>\n",
       "      <td>Paris</td>\n",
       "      <td>Aix-en-Provence</td>\n",
       "      <td>48.856614%7C2.352221</td>\n",
       "      <td>43.529742%2C5.447426</td>\n",
       "      <td>638.354987</td>\n",
       "    </tr>\n",
       "    <tr>\n",
       "      <th>2</th>\n",
       "      <td>Paris</td>\n",
       "      <td>Le Mans</td>\n",
       "      <td>48.856614%7C2.352221</td>\n",
       "      <td>48.00611%2C0.199556</td>\n",
       "      <td>185.248149</td>\n",
       "    </tr>\n",
       "    <tr>\n",
       "      <th>3</th>\n",
       "      <td>Paris</td>\n",
       "      <td>Clermont-Ferrand</td>\n",
       "      <td>48.856614%7C2.352221</td>\n",
       "      <td>45.777221%2C3.087025</td>\n",
       "      <td>346.830995</td>\n",
       "    </tr>\n",
       "    <tr>\n",
       "      <th>4</th>\n",
       "      <td>Paris</td>\n",
       "      <td>Villeurbanne</td>\n",
       "      <td>48.856614%7C2.352221</td>\n",
       "      <td>45.771944%2C4.89017</td>\n",
       "      <td>392.924254</td>\n",
       "    </tr>\n",
       "    <tr>\n",
       "      <th>...</th>\n",
       "      <td>...</td>\n",
       "      <td>...</td>\n",
       "      <td>...</td>\n",
       "      <td>...</td>\n",
       "      <td>...</td>\n",
       "    </tr>\n",
       "    <tr>\n",
       "      <th>547</th>\n",
       "      <td>Marseille</td>\n",
       "      <td>Nantes</td>\n",
       "      <td>43.296482%2C5.36978</td>\n",
       "      <td>47.218371%2C-1.553621</td>\n",
       "      <td>696.171541</td>\n",
       "    </tr>\n",
       "    <tr>\n",
       "      <th>548</th>\n",
       "      <td>Marseille</td>\n",
       "      <td>Nice</td>\n",
       "      <td>43.296482%2C5.36978</td>\n",
       "      <td>43.710172%2C7.261953</td>\n",
       "      <td>159.773422</td>\n",
       "    </tr>\n",
       "    <tr>\n",
       "      <th>549</th>\n",
       "      <td>Marseille</td>\n",
       "      <td>Toulouse</td>\n",
       "      <td>43.296482%2C5.36978</td>\n",
       "      <td>43.604652%2C1.444209</td>\n",
       "      <td>319.554716</td>\n",
       "    </tr>\n",
       "    <tr>\n",
       "      <th>550</th>\n",
       "      <td>Marseille</td>\n",
       "      <td>Lyon</td>\n",
       "      <td>43.296482%2C5.36978</td>\n",
       "      <td>45.76404%2C4.83565</td>\n",
       "      <td>277.467040</td>\n",
       "    </tr>\n",
       "    <tr>\n",
       "      <th>551</th>\n",
       "      <td>Marseille</td>\n",
       "      <td>Paris</td>\n",
       "      <td>43.296482%2C5.36978</td>\n",
       "      <td>48.856614%7C2.352221</td>\n",
       "      <td>660.495481</td>\n",
       "    </tr>\n",
       "  </tbody>\n",
       "</table>\n",
       "<p>552 rows × 5 columns</p>\n",
       "</div>"
      ],
      "text/plain": [
       "        Origin       Destination       From_coordinate          To_coordinate  \\\n",
       "0        Paris             Brest  48.856614%7C2.352221  48.390394%7C-4.486076   \n",
       "1        Paris   Aix-en-Provence  48.856614%7C2.352221   43.529742%2C5.447426   \n",
       "2        Paris           Le Mans  48.856614%7C2.352221    48.00611%2C0.199556   \n",
       "3        Paris  Clermont-Ferrand  48.856614%7C2.352221   45.777221%2C3.087025   \n",
       "4        Paris      Villeurbanne  48.856614%7C2.352221    45.771944%2C4.89017   \n",
       "..         ...               ...                   ...                    ...   \n",
       "547  Marseille            Nantes   43.296482%2C5.36978  47.218371%2C-1.553621   \n",
       "548  Marseille              Nice   43.296482%2C5.36978   43.710172%2C7.261953   \n",
       "549  Marseille          Toulouse   43.296482%2C5.36978   43.604652%2C1.444209   \n",
       "550  Marseille              Lyon   43.296482%2C5.36978     45.76404%2C4.83565   \n",
       "551  Marseille             Paris   43.296482%2C5.36978   48.856614%7C2.352221   \n",
       "\n",
       "       Distance  \n",
       "0    506.615402  \n",
       "1    638.354987  \n",
       "2    185.248149  \n",
       "3    346.830995  \n",
       "4    392.924254  \n",
       "..          ...  \n",
       "547  696.171541  \n",
       "548  159.773422  \n",
       "549  319.554716  \n",
       "550  277.467040  \n",
       "551  660.495481  \n",
       "\n",
       "[552 rows x 5 columns]"
      ]
     },
     "execution_count": 49,
     "metadata": {},
     "output_type": "execute_result"
    }
   ],
   "source": [
    "origin_destination_df = pd.read_csv(\"./origin_destination.csv\", sep=\";\")\n",
    "origin_destination_df['Distance'] = origin_destination_df.apply(lambda x: get_distance(x), axis=1)\n",
    "origin_destination_df"
   ]
  },
  {
   "cell_type": "code",
   "execution_count": 51,
   "metadata": {},
   "outputs": [],
   "source": [
    "origin_destination_df.to_csv(\"./origin_destination_out.csv\")"
   ]
  }
 ],
 "metadata": {
  "kernelspec": {
   "display_name": "Python 3",
   "language": "python",
   "name": "python3"
  },
  "language_info": {
   "codemirror_mode": {
    "name": "ipython",
    "version": 3
   },
   "file_extension": ".py",
   "mimetype": "text/x-python",
   "name": "python",
   "nbconvert_exporter": "python",
   "pygments_lexer": "ipython3",
   "version": "3.8.5"
  }
 },
 "nbformat": 4,
 "nbformat_minor": 4
}
